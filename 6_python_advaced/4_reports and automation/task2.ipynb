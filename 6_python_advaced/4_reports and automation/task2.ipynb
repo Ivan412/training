{
  "nbformat": 4,
  "nbformat_minor": 0,
  "metadata": {
    "colab": {
      "name": "part4-task2.ipynb",
      "provenance": [],
      "collapsed_sections": [],
      "authorship_tag": "ABX9TyOwg67ipEcfSC7HYEKmaRka",
      "include_colab_link": true
    },
    "kernelspec": {
      "name": "python3",
      "display_name": "Python 3"
    },
    "language_info": {
      "name": "python"
    },
    "gpuClass": "standard"
  },
  "cells": [
    {
      "cell_type": "markdown",
      "metadata": {
        "id": "view-in-github",
        "colab_type": "text"
      },
      "source": [
        "<a href=\"https://colab.research.google.com/github/Ivan412/training/blob/main/6_python_advaced/4_reports%20and%20automation/task2.ipynb\" target=\"_parent\"><img src=\"https://colab.research.google.com/assets/colab-badge.svg\" alt=\"Open In Colab\"/></a>"
      ]
    },
    {
      "cell_type": "markdown",
      "source": [
        "Продвинутый Python. Часть 4: Отчеты и автоматизация. Базовые отчеты.\n",
        "\n",
        "---\n",
        "\n",
        "\n",
        "#**Задание: геральдические символы Москвы**\n",
        "\n",
        "Сгенерируйте PDF документ из списка флагов и гербов районов Москвы:\n",
        "\n",
        "https://video.ittensive.com/python-advanced/data-102743-2019-11-13.utf.csv\n",
        "\n",
        "На каждой странице документа выведите название геральдического символа (Name), его описание (Description) и его изображение (Picture).\n",
        "\n",
        "Для показа изображений используйте адрес\n",
        "\n",
        "https://op.mos.ru/MEDIA/showFile?id=XXX\n",
        "\n",
        "где XXX - это значение поля Picture в наборе данных. Например:\n",
        "\n",
        "https://op.mos.ru/MEDIA/showFile?id=8466da35-6801-41a9-a71e-04b60408accb"
      ],
      "metadata": {
        "id": "TMOXXbPLtXin"
      }
    },
    {
      "cell_type": "code",
      "source": [
        "%%capture\n",
        "#скачаем шрифт\n",
        "!wget http://video.ittensive.com/python-advanced/Trebuchet.ttf"
      ],
      "metadata": {
        "id": "Zqd_rGapNgRE"
      },
      "execution_count": null,
      "outputs": []
    },
    {
      "cell_type": "code",
      "source": [
        "%%capture\n",
        "#обновим модули\n",
        "!pip install --upgrade Pillow reportlab"
      ],
      "metadata": {
        "id": "RP4RlRTqOegi"
      },
      "execution_count": null,
      "outputs": []
    },
    {
      "cell_type": "code",
      "source": [
        "#перезапустим рантайм\n",
        "exit()"
      ],
      "metadata": {
        "id": "joV29mG8OffD"
      },
      "execution_count": null,
      "outputs": []
    },
    {
      "cell_type": "code",
      "execution_count": null,
      "metadata": {
        "id": "JmyVKs_eLHDw"
      },
      "outputs": [],
      "source": [
        "import pandas as pd\n",
        "from reportlab.pdfbase import pdfmetrics\n",
        "from reportlab.pdfbase.ttfonts import TTFont\n",
        "from reportlab.pdfgen import canvas\n",
        "from reportlab.lib import pagesizes\n",
        "from reportlab.lib.utils import ImageReader\n",
        "import requests\n",
        "import time"
      ]
    },
    {
      "cell_type": "code",
      "source": [
        "def add_page(PDF, name, desc, pic):\n",
        "  '''\n",
        "  добавляем типовую страницу с гербом\n",
        "  '''\n",
        "  url = 'http://op.mos.ru/MEDIA/showFile?id='\n",
        "\n",
        "  #название геральдического символа\n",
        "  y = 780\n",
        "  tu = 24\n",
        "  PDF.setFont(\"Trebuchet\", tu)\n",
        "  name = split_line(name, tu) \n",
        "  for line in name:\n",
        "    PDF.drawString(line_offset(line, tu), y, line)\n",
        "    y -= 20\n",
        "  \n",
        "  #герб\n",
        "  #с колаба нет доступа на op.mos.ru, поэтому идем через прокси\n",
        "  proxies = {'http': 'http://5.35.93.34:8080',\n",
        "             'https': 'https://95.174.102.131:53281'}\n",
        "  y -= 300\n",
        "  while True:\n",
        "    try:\n",
        "      time.sleep(1)\n",
        "      resp = requests.get(url+pic, stream=True, proxies=proxies)\n",
        "      PDF.drawImage(ImageReader(resp.raw), 100, y)\n",
        "      break\n",
        "    except:\n",
        "      print('Proxy\\image error occurred')\n",
        "\n",
        "  #описание\n",
        "  y -= 100\n",
        "  tu = 18\n",
        "  PDF.setFont(\"Trebuchet\", tu)\n",
        "  desc = split_line(desc, tu)\n",
        "  for line in desc:\n",
        "    PDF.drawString(line_offset(line, tu), y, line)\n",
        "    y -= 15\n",
        "  PDF.showPage()\n",
        "  return PDF\n",
        "\n",
        "def split_line(line, tu):\n",
        "  '''\n",
        "  формируем строки нужной длины в зависимости от размера шрифта\n",
        "  поддерживаются размеры 24 и 18\n",
        "  '''\n",
        "  #максимум символов в строке в от кегля, после вычитания отступов\n",
        "  max_chars = {24: 40, 18: 48}[tu]\n",
        "  result = []\n",
        "  words = line.strip().split(' ')\n",
        "  line = []\n",
        "  for word in words:\n",
        "    #в пустой лист добавляем слово\n",
        "    #добавим новое слово, если оно не приведет к превышению порога символов\n",
        "    if (len(line) == 0) or (line_len(line) + len(word) < max_chars):\n",
        "      line.append(word)\n",
        "    #если слово не влезло, каст листа к строке идобавление слова в новый лист\n",
        "    else:\n",
        "      result.append(' '.join(line))\n",
        "      line = []\n",
        "      line.append(word)\n",
        "  #последнее слово влезло в лист(сработал if на последней итерации выше)\n",
        "  #добавляем в результат и его\n",
        "  if line:\n",
        "    result.append(' '.join(line))\n",
        "  return result\n",
        "\n",
        "\n",
        "def line_len(line):\n",
        "  '''\n",
        "  считаем сумму длин слов в листе и пробелов между ними\n",
        "  '''\n",
        "  result = sum(map(len, line)) + len(line) - 1\n",
        "  return result\n",
        "\n",
        "\n",
        "def line_offset(line, tu):\n",
        "  '''\n",
        "  считаем левый отступ в координатах для строки \n",
        "  произвольной длины 24го или 18 размера\n",
        "  '''\n",
        "  #ширина строки в символах от кегля\n",
        "  max_chars = {24: 50, 18: 65}[tu]\n",
        "  #ширина символа от кегля\n",
        "  mult = {24: 12.5, 18: 9}[tu]\n",
        "  #из макс длины в символах вычтем длину строки поделим на \n",
        "  #2(левый отступ) и переведем в координаты\n",
        "  offset = round(((max_chars - len(line)) / 2) * mult) \n",
        "\n",
        "  return offset"
      ],
      "metadata": {
        "id": "fM5-pc9Fh9G0"
      },
      "execution_count": null,
      "outputs": []
    },
    {
      "cell_type": "code",
      "source": [
        "#загрузим данные\n",
        "data  = pd.read_csv('https://video.ittensive.com/python-advanced/data-102743-2019-11-13.utf.csv', delimiter=';', index_col='ID')"
      ],
      "metadata": {
        "id": "qu5DIGOBtwvt"
      },
      "execution_count": null,
      "outputs": []
    },
    {
      "cell_type": "code",
      "source": [
        "#создадим титульный лист\n",
        "pdfmetrics.registerFont(TTFont('Trebuchet', 'Trebuchet.ttf'))\n",
        "PDF = canvas.Canvas(\"symbols.pdf\", pagesize = pagesizes.A4)\n",
        "PDF.setFont(\"Trebuchet\", 48)\n",
        "PDF.drawString(120, 550, \"Геральдические\")\n",
        "PDF.drawString(190, 490, \"символы\")\n",
        "PDF.drawString(200, 430, \"Москвы\")\n",
        "PDF.showPage()\n"
      ],
      "metadata": {
        "id": "waTqYuitftyL"
      },
      "execution_count": null,
      "outputs": []
    },
    {
      "cell_type": "code",
      "source": [
        "#создадим страницы с геральдикой\n",
        "for ind, row in data.iterrows():\n",
        "  name, desc, pic = row['Name'], row['Description'], row['Picture']\n",
        "  print(f'Создаю страницу... {name}')\n",
        "  PDF = add_page(PDF, name, desc, pic)\n",
        "print('Страницы созданы')"
      ],
      "metadata": {
        "id": "rqr9EkD7htZ-",
        "colab": {
          "base_uri": "https://localhost:8080/"
        },
        "outputId": "93eefc0e-f85a-4219-a863-627b9b06bbe4"
      },
      "execution_count": null,
      "outputs": [
        {
          "output_type": "stream",
          "name": "stdout",
          "text": [
            "Создаю страницу... Герб муниципального округа Новокосино в городе Москве\n",
            "Создаю страницу... Флаг муниципального округа Новокосино в городе Москве\n",
            "Создаю страницу... Герб муниципального округа Нагатино-Садовники в городе Москве\n",
            "Proxy\\image error occurred\n",
            "Proxy\\image error occurred\n",
            "Proxy\\image error occurred\n",
            "Proxy\\image error occurred\n",
            "Proxy\\image error occurred\n",
            "Proxy\\image error occurred\n",
            "Proxy\\image error occurred\n",
            "Proxy\\image error occurred\n",
            "Proxy\\image error occurred\n",
            "Proxy\\image error occurred\n",
            "Proxy\\image error occurred\n",
            "Proxy\\image error occurred\n",
            "Proxy\\image error occurred\n",
            "Создаю страницу... Флаг муниципального округа Нагатино-Садовники в городе Москве\n",
            "Proxy\\image error occurred\n",
            "Proxy\\image error occurred\n",
            "Proxy\\image error occurred\n",
            "Proxy\\image error occurred\n",
            "Proxy\\image error occurred\n",
            "Proxy\\image error occurred\n",
            "Proxy\\image error occurred\n",
            "Proxy\\image error occurred\n",
            "Proxy\\image error occurred\n",
            "Proxy\\image error occurred\n",
            "Proxy\\image error occurred\n",
            "Proxy\\image error occurred\n",
            "Proxy\\image error occurred\n",
            "Proxy\\image error occurred\n",
            "Proxy\\image error occurred\n",
            "Proxy\\image error occurred\n",
            "Proxy\\image error occurred\n",
            "Proxy\\image error occurred\n",
            "Proxy\\image error occurred\n",
            "Proxy\\image error occurred\n",
            "Proxy\\image error occurred\n",
            "Proxy\\image error occurred\n",
            "Proxy\\image error occurred\n",
            "Proxy\\image error occurred\n",
            "Proxy\\image error occurred\n",
            "Создаю страницу... Герб муниципального округа Марфино в городе Москве\n",
            "Создаю страницу... Флаг муниципального округа Марфино в городе Москве\n",
            "Создаю страницу... Герб муниципального округа Ломоносовский в городе Москве\n",
            "Создаю страницу... Флаг муниципального округа Ломоносовский в городе Москве\n",
            "Создаю страницу... Герб муниципального округа Косино-Ухтомский в городе Москве\n",
            "Создаю страницу... Флаг муниципального округа Косино-Ухтомский в городе Москве\n",
            "Создаю страницу... Герб муниципального округа Ивановское в городе Москве\n",
            "Создаю страницу... Флаг муниципального округа Ивановское в городе Москве\n",
            "Создаю страницу... Герб муниципального округа Донской в городе Москве\n",
            "Создаю страницу... Флаг муниципального округа Донской в городе Москве\n",
            "Proxy\\image error occurred\n",
            "Создаю страницу... Герб муниципального округа Даниловский в городе Москве\n",
            "Proxy\\image error occurred\n",
            "Proxy\\image error occurred\n",
            "Proxy\\image error occurred\n",
            "Proxy\\image error occurred\n",
            "Proxy\\image error occurred\n",
            "Создаю страницу... Флаг муниципального округа Даниловский в городе Москве\n",
            "Создаю страницу... Герб муниципального округа Гольяново в городе Москве\n",
            "Создаю страницу... Флаг муниципального округа Гольяново в городе Москве\n",
            "Создаю страницу... Герб муниципального округа Чертаново Северное в городе Москве\n",
            "Proxy\\image error occurred\n",
            "Proxy\\image error occurred\n",
            "Proxy\\image error occurred\n",
            "Proxy\\image error occurred\n",
            "Proxy\\image error occurred\n",
            "Proxy\\image error occurred\n",
            "Создаю страницу... Флаг муниципального округа Чертаново Северное в городе Москве\n",
            "Создаю страницу... Герб муниципального округа Таганский\n",
            "Proxy\\image error occurred\n",
            "Proxy\\image error occurred\n",
            "Proxy\\image error occurred\n",
            "Proxy\\image error occurred\n",
            "Proxy\\image error occurred\n",
            "Proxy\\image error occurred\n",
            "Proxy\\image error occurred\n",
            "Создаю страницу... Флаг муниципального округа Таганский в городе Москве\n",
            "Создаю страницу... Герб муниципального округа Солнцево в городе Москве\n",
            "Создаю страницу... Флаг муниципального округа Солнцево в городе Москве\n",
            "Создаю страницу... Герб муниципального округа Печатники в городе Москве\n",
            "Создаю страницу... Флаг муниципального округа Печатники в городе Москве\n",
            "Создаю страницу... Герб поселения Филимонковское в городе Москве\n",
            "Создаю страницу... Флаг поселения Филимонковское в городе Москве\n",
            "Создаю страницу... Герб поселения Новофедоровское в городе Москве\n",
            "Создаю страницу... Флаг поселения Новофедоровское в городе Москве\n",
            "Создаю страницу... Герб поселения Михайлово-Ярцевское в городе Москве\n",
            "Создаю страницу... Флаг поселения Михайлово-Ярцевское в городе Москве\n",
            "Создаю страницу... Герб поселения Марушкинское в городе Москве\n",
            "Proxy\\image error occurred\n",
            "Proxy\\image error occurred\n",
            "Proxy\\image error occurred\n",
            "Proxy\\image error occurred\n",
            "Proxy\\image error occurred\n",
            "Proxy\\image error occurred\n",
            "Proxy\\image error occurred\n",
            "Proxy\\image error occurred\n",
            "Создаю страницу... Флаг поселения Марушкинское в городе Москве\n",
            "Proxy\\image error occurred\n",
            "Proxy\\image error occurred\n",
            "Создаю страницу... Герб поселения Киевский в городе Москве\n",
            "Создаю страницу... Флаг поселения Киевский в городе Москве\n",
            "Создаю страницу... Герб поселения Внуковское в городе Москве\n",
            "Создаю страницу... Флаг поселения Внуковское в городе Москве\n",
            "Создаю страницу... Герб муниципального округа Южнопортовый в городе Москве\n",
            "Создаю страницу... Флаг муниципального округа Южнопортовый в городе Москве\n",
            "Создаю страницу... Герб поселения Десеновское в городе Москве\n",
            "Создаю страницу... Флаг поселения Десеновское в городе Москве\n",
            "Proxy\\image error occurred\n",
            "Страницы созданы\n"
          ]
        }
      ]
    },
    {
      "cell_type": "code",
      "source": [
        "PDF.save()"
      ],
      "metadata": {
        "id": "H-3rjz9ehC1Y"
      },
      "execution_count": null,
      "outputs": []
    }
  ]
}