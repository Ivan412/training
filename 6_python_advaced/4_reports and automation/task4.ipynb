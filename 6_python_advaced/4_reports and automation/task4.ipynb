{
  "nbformat": 4,
  "nbformat_minor": 0,
  "metadata": {
    "colab": {
      "name": "part4-task4.ipynb",
      "provenance": [],
      "collapsed_sections": [],
      "authorship_tag": "ABX9TyPR2HaM67mSKFhV+HExI8q7",
      "include_colab_link": true
    },
    "kernelspec": {
      "name": "python3",
      "display_name": "Python 3"
    },
    "language_info": {
      "name": "python"
    },
    "gpuClass": "standard"
  },
  "cells": [
    {
      "cell_type": "markdown",
      "metadata": {
        "id": "view-in-github",
        "colab_type": "text"
      },
      "source": [
        "<a href=\"https://colab.research.google.com/github/Ivan412/training/blob/main/6_python_advaced/4_reports%20and%20automation/task4.ipynb\" target=\"_parent\"><img src=\"https://colab.research.google.com/assets/colab-badge.svg\" alt=\"Open In Colab\"/></a>"
      ]
    },
    {
      "cell_type": "markdown",
      "source": [
        "Продвинутый Python. Часть 4: Отчеты и автоматизация. Отправка email и интеграция\n",
        "\n",
        "---\n",
        "\n",
        "\n",
        "#**Задание: автоматические отчеты**\n",
        "\n",
        "Соберите отчет по результатам ЕГЭ в 2018-2019 году, используя данные\n",
        "\n",
        "https://video.ittensive.com/python-advanced/data-9722-2019-10-14.utf.csv\n",
        "\n",
        "и отправьте его в HTML формате по адресу support@ittensive.com, используя только Python.\n",
        "\n",
        "В отчете должно быть:\n",
        "*   общее число отличников (учеников, получивших более 220 баллов по ЕГЭ в Москве),\n",
        "*   распределение отличников по округам Москвы,\n",
        "*   название школы с лучшими результатами по ЕГЭ в Москве.\n",
        "\n",
        "\n",
        "Диаграмма распределения должна быть вставлена в HTML через data:URI формат (в base64-кодировке).\n",
        "\n",
        "Дополнительно: приложите к отчету PDF документ того же содержания (дублирующий письмо)."
      ],
      "metadata": {
        "id": "TMOXXbPLtXin"
      }
    },
    {
      "cell_type": "code",
      "source": [
        "%%capture\n",
        "#установим wkhtmltopdf\n",
        "! wget \"https://github.com/wkhtmltopdf/wkhtmltopdf/releases/download/0.12.4/wkhtmltox-0.12.4_linux-generic-amd64.tar.xz\" && \\\n",
        "  tar vxfJ \"wkhtmltox-0.12.4_linux-generic-amd64.tar.xz\" && \\\n",
        "  mv wkhtmltox/bin/wkhtmltopdf /usr/bin/wkhtmltopdf\n",
        "!pip install pdfkit"
      ],
      "metadata": {
        "id": "WUuf_gk4Wy9d"
      },
      "execution_count": null,
      "outputs": []
    },
    {
      "cell_type": "code",
      "source": [
        "%matplotlib inline\n",
        "import pandas as pd\n",
        "import matplotlib.pyplot as plt\n",
        "import io\n",
        "import binascii\n",
        "from jinja2 import Template\n",
        "import smtplib\n",
        "from email import encoders\n",
        "from email.mime.text import MIMEText\n",
        "from email.mime.base import MIMEBase\n",
        "from email.mime.multipart import MIMEMultipart\n",
        "import pdfkit\n",
        "from getpass import getpass\n",
        "plt.ioff()\n",
        "config = pdfkit.configuration(wkhtmltopdf=\"/usr/bin/wkhtmltopdf\")"
      ],
      "metadata": {
        "id": "ljrfN0xDy7l9"
      },
      "execution_count": null,
      "outputs": []
    },
    {
      "cell_type": "code",
      "source": [
        "#html шаблон отчета\n",
        "TEMPLATE = '''<!DOCTYPE html>\n",
        "<html>\n",
        "<head>\n",
        "</head>\n",
        "  <title>Отчет по результатам ЕГЭ в 2018-2019 году</title>\n",
        "  <meta charset=\"utf-8\"/>\n",
        "<body>\n",
        "  <h1>Отчет по результатам ЕГЭ в 2018-2019 году</h1>\n",
        "  <h2>Общее число отличников</h2>\n",
        "  <p>Общее число отличников в школах москвы за 2018-2019г: {{data.total_over220}}</p>\n",
        "  <h2>Распределение отличников по округам Москвы</h2>\n",
        "  <img src=\"{{data.image}}\" alt=\"Распределение отличников по округам Москвы\">\n",
        "  <h2>Школа с лучшими результатами по ЕГЭ в Москве</h2>\n",
        "  <p>Школа с наибольшим числом отличников за 2018-2019г:<br>{{data.best_scool}}</p>\n",
        "</body>\n",
        "</html>'''"
      ],
      "metadata": {
        "id": "av4mVAx8AIS-"
      },
      "execution_count": null,
      "outputs": []
    },
    {
      "cell_type": "code",
      "source": [
        "#загрузим данные необходимык для выполнения задания\n",
        "cols = ['EDU_NAME', 'AdmArea', 'PASSES_OVER_220', 'YEAR']\n",
        "data = pd.read_csv('https://video.ittensive.com/python-advanced/data-9722-2019-10-14.utf.csv', delimiter=';', usecols=cols)\n",
        "#оставим данные за 2018-2019г\n",
        "data = data.loc[data['YEAR'] == '2018-2019'][['EDU_NAME', 'AdmArea', 'PASSES_OVER_220']]"
      ],
      "metadata": {
        "id": "S_RRLcMty_7T"
      },
      "execution_count": null,
      "outputs": []
    },
    {
      "cell_type": "code",
      "source": [
        "#посчитаем количество отличников и найдем лучшую школу(критерий - самое большое число отличников)\n",
        "total_over220 = data['PASSES_OVER_220'].sum()\n",
        "best_scool = data.sort_values(by=['PASSES_OVER_220'], ascending=False).iloc[0]['EDU_NAME']"
      ],
      "metadata": {
        "id": "SIPtOPQWcZ7A"
      },
      "execution_count": null,
      "outputs": []
    },
    {
      "cell_type": "code",
      "source": [
        "#подготовим данные\n",
        "alloc_over220 = data.groupby('AdmArea').sum()\n",
        "#нарисуем круговую диаграмму\n",
        "fig = plt.figure(figsize=(12, 12))\n",
        "ax = fig.add_subplot(1, 1, 1)\n",
        "alloc_over220['PASSES_OVER_220'].plot(ax=ax, kind='pie', autopct='%.2f', pctdistance=0.95, labels=None)\n",
        "ax.set_xlabel('')\n",
        "ax.set_ylabel('')\n",
        "plt.legend(labels=alloc_over220.index, ncol=3)\n",
        "#сохраним диаграмму в bin2ascii формате\n",
        "img_buf = io.BytesIO()\n",
        "plt.savefig(img_buf, format='png', bbox_inches=\"tight\")\n",
        "img_buf.seek(0)\n",
        "img = 'data:image/png;base64,' + binascii.b2a_base64(img_buf.read(), newline=False).decode(\"UTF-8\")\n",
        "del(img_buf)"
      ],
      "metadata": {
        "id": "RWHAXNEXdqFE"
      },
      "execution_count": null,
      "outputs": []
    },
    {
      "cell_type": "code",
      "source": [
        "#отрендерим шаблон и создадим pdf \n",
        "html = Template(TEMPLATE).render(data={'image': img, 'total_over220': total_over220, 'best_scool': best_scool})\n",
        "options = {'page-size': 'A4', 'header-right': '[page]'}\n",
        "pdf_buf = io.BytesIO()\n",
        "pdf_buf.write(pdfkit.from_string(html, configuration=config, options=options))"
      ],
      "metadata": {
        "colab": {
          "base_uri": "https://localhost:8080/"
        },
        "id": "pgpi1p6mrTYy",
        "outputId": "f2cc2e60-bc31-4dc2-8926-b29e1261ba13"
      },
      "execution_count": null,
      "outputs": [
        {
          "output_type": "execute_result",
          "data": {
            "text/plain": [
              "63845"
            ]
          },
          "metadata": {},
          "execution_count": 17
        }
      ]
    },
    {
      "cell_type": "code",
      "source": [
        "#подключимся к серверу\n",
        "server = smtplib.SMTP_SSL(\"smtp.yandex.com\", 465)\n",
        "login = input (\"Введите login: \")\n",
        "password = getpass(\"Введите password: \")\n",
        "From = input (\"Введите адрес отправителя: \")\n",
        "To = input (\"Введите адрес получателя: \")\n",
        "server.login(login, password)\n",
        "#сфоримруем текстовую часть письма\n",
        "letter = MIMEMultipart()\n",
        "letter[\"From\"] = From\n",
        "letter[\"Subject\"] = \"Продвинутый Python. Часть 4. Задание - автоматические отчеты\"\n",
        "letter[\"Content-Type\"] = \"text/html; charset=utf-8\"\n",
        "letter[\"To\"] = To\n",
        "letter.attach(MIMEText(html, 'html'))\n",
        "#сфоримруем вложение и прекрепим к письму\n",
        "attachement = MIMEBase('application', 'pdf')\n",
        "pdf_buf.seek(0)\n",
        "attachement.set_payload(pdf_buf.read())\n",
        "attachement.add_header('Content-Disposition', 'attachement; filename=\"scool-stats.pdf\"')\n",
        "encoders.encode_base64(attachement)\n",
        "letter.attach(attachement)\n",
        "server.sendmail(From, To, letter.as_string())\n",
        "del(password)"
      ],
      "metadata": {
        "id": "TbGulAO9u9Pb"
      },
      "execution_count": null,
      "outputs": []
    }
  ]
}