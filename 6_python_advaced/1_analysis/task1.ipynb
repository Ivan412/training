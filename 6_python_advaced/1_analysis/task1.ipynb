{
  "nbformat": 4,
  "nbformat_minor": 0,
  "metadata": {
    "colab": {
      "name": "part1-task1.ipynb",
      "provenance": [],
      "authorship_tag": "ABX9TyPMzHcLkeNC/IPKLKVV4zbu",
      "include_colab_link": true
    },
    "kernelspec": {
      "name": "python3",
      "display_name": "Python 3"
    },
    "language_info": {
      "name": "python"
    }
  },
  "cells": [
    {
      "cell_type": "markdown",
      "metadata": {
        "id": "view-in-github",
        "colab_type": "text"
      },
      "source": [
        "<a href=\"https://colab.research.google.com/github/Ivan412/training/blob/main/6_python_advaced/1_analysis/task1.ipynb\" target=\"_parent\"><img src=\"https://colab.research.google.com/assets/colab-badge.svg\" alt=\"Open In Colab\"/></a>"
      ]
    },
    {
      "cell_type": "markdown",
      "source": [
        "Продвинутый Python. Часть 1: анализ данных. numpy и pandas.\n",
        "\n",
        "---\n",
        "\n",
        "\n",
        "#**Задание: импорт данных**\n",
        "\n",
        "Возьмите данные по вызовам пожарных служб в Москве за 2015-2019 годы:\n",
        "\n",
        "https://video.ittensive.com/python-advanced/data-5283-2019-10-04.utf.csv\n",
        "\n",
        "Получите из них фрейм данных (таблицу значений). По этому фрейму вычислите среднее значение вызовов пожарных машин в месяц в одном округе Москвы, округлив до целых\n",
        "\n",
        "Примечание: найдите среднее значение вызовов, без учета года"
      ],
      "metadata": {
        "id": "jU3HIZ6WcMsf"
      }
    },
    {
      "cell_type": "code",
      "execution_count": 1,
      "metadata": {
        "id": "LkZkxfCdcJXS"
      },
      "outputs": [],
      "source": [
        "import pandas as pd"
      ]
    },
    {
      "cell_type": "code",
      "source": [
        "#Загрузим данные\n",
        "# cols = ['ID', 'AdmArea', 'Year', 'global_id', 'Month', 'Calls']\n",
        "cols = ['ID', 'AdmArea', 'Year', 'Month', 'Calls']\n",
        "data = pd.read_csv('https://video.ittensive.com/python-advanced/data-5283-2019-10-04.utf.csv', delimiter=';', index_col=['ID'], usecols=cols)"
      ],
      "metadata": {
        "id": "qzbAo_3y_RuS"
      },
      "execution_count": 2,
      "outputs": []
    },
    {
      "cell_type": "code",
      "source": [
        "#проверим уникальность названий округов\n",
        "print([x for x in sorted(data['AdmArea'].unique())])\n",
        "# возьмем только 1е слово из названия округа\n",
        "data['AdmArea'] = data['AdmArea'].apply(lambda x: x.lower().split()[0])\n",
        "#проверим уникальность названий округов\n",
        "print([x for x in sorted(data['AdmArea'].unique())])\n",
        "#исправим оставшиеся опечатки\n",
        "AREAS = {'запдный': 'западный',\n",
        "         'северо-востосный': 'северо-восточный',\n",
        "         'северо-закпадный': 'северо-западный', 'северо-заподный': 'северо-западный', 'северно-западный': 'северо-западный',\n",
        "         'юго-востосный': 'юго-восточный', 'юго-восточнный': 'юго-восточный', 'юго=восточный': 'юго-восточный',\n",
        "         'югозападный': 'юго-западный'}\n",
        "data['AdmArea'] = data['AdmArea'].apply(lambda x: AREAS[x] if x in AREAS.keys() else x)\n",
        "#проверим уникальность названий округов\n",
        "print([x for x in sorted(data['AdmArea'].unique())])"
      ],
      "metadata": {
        "id": "xBQYHyHQRb6n"
      },
      "execution_count": null,
      "outputs": []
    },
    {
      "cell_type": "code",
      "source": [
        "#вычислим среднее количество вызовов за месяц по округам\n",
        "means = data[['AdmArea', 'Calls']].groupby('AdmArea').mean()\n",
        "print('Количество вызовов в среднем в месяц по округам:')\n",
        "print(means.round(0))"
      ],
      "metadata": {
        "id": "gHHl1fPegf6t"
      },
      "execution_count": null,
      "outputs": []
    },
    {
      "cell_type": "code",
      "source": [
        "#вычислим среднее количество вызовов за месяц для одного округа\n",
        "print(f'Количество вызовов в среднем в месяц для одного округа: {means[\"Calls\"].mean().round(0)}')"
      ],
      "metadata": {
        "colab": {
          "base_uri": "https://localhost:8080/"
        },
        "id": "qVu-R10vuqqx",
        "outputId": "1f689613-8f05-4183-b4a9-cebbd1c1fd09"
      },
      "execution_count": 5,
      "outputs": [
        {
          "output_type": "stream",
          "name": "stdout",
          "text": [
            "Количество вызовов в среднем в месяц для одного округа: 493.0\n"
          ]
        }
      ]
    }
  ]
}