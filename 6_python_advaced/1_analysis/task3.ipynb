{
  "nbformat": 4,
  "nbformat_minor": 0,
  "metadata": {
    "colab": {
      "name": "part1-task3.ipynb",
      "provenance": [],
      "collapsed_sections": [],
      "authorship_tag": "ABX9TyNS/gs8pPdu5Vnp3lZljkdh",
      "include_colab_link": true
    },
    "kernelspec": {
      "name": "python3",
      "display_name": "Python 3"
    },
    "language_info": {
      "name": "python"
    }
  },
  "cells": [
    {
      "cell_type": "markdown",
      "metadata": {
        "id": "view-in-github",
        "colab_type": "text"
      },
      "source": [
        "<a href=\"https://colab.research.google.com/github/Ivan412/training/blob/main/6_python_advaced/1_analysis/task3.ipynb\" target=\"_parent\"><img src=\"https://colab.research.google.com/assets/colab-badge.svg\" alt=\"Open In Colab\"/></a>"
      ]
    },
    {
      "cell_type": "markdown",
      "source": [
        "Продвинутый Python. Часть 1: Фильтрация и изменение данных.\n",
        "\n",
        "---\n",
        "\n",
        "\n",
        "#**Задание: выделение данных**\n",
        "\n",
        "Получите данные по безработице в Москве:\n",
        "\n",
        "https://video.ittensive.com/python-advanced/data-9753-2019-07-25.utf.csv\n",
        "\n",
        "Найдите, с какого года процент людей с ограниченными возможностями (UnemployedDisabled) среди всех безработных (UnemployedTotal) стал меньше 2%."
      ],
      "metadata": {
        "id": "OQWO8Jcz4RPd"
      }
    },
    {
      "cell_type": "code",
      "source": [
        "import pandas as pd"
      ],
      "metadata": {
        "id": "0jT6Sl9-4tZj"
      },
      "execution_count": 3,
      "outputs": []
    },
    {
      "cell_type": "code",
      "source": [
        "#Загрузим данные\n",
        "columns=['ID', 'Year', 'UnemployedDisabled', 'UnemployedTotal', 'Period']\n",
        "data = pd.read_csv('https://video.ittensive.com/python-advanced/data-9753-2019-07-25.utf.csv', delimiter=';', decimal=',', na_values=\"NA\", usecols=columns, index_col='ID')"
      ],
      "metadata": {
        "id": "qgdPjnwC43Xs"
      },
      "execution_count": 5,
      "outputs": []
    },
    {
      "cell_type": "code",
      "source": [
        "#отфильтруем значения с числом безработных инвалидов меньше 2%\n",
        "years = data[(data['UnemployedDisabled'] / data['UnemployedTotal']) < 0.02]\n",
        "#найдем минимальный год\n",
        "min_year = years['Year'].min()\n",
        "print(f'В {min_year} году количество безработных людей с ограниченными возможностями впервые стало менее 2%.')"
      ],
      "metadata": {
        "colab": {
          "base_uri": "https://localhost:8080/"
        },
        "id": "rTlFYxnH5e4X",
        "outputId": "c91e0716-2f4a-43d6-863a-2faa37a79abb"
      },
      "execution_count": 6,
      "outputs": [
        {
          "output_type": "stream",
          "name": "stdout",
          "text": [
            "В 2018 году количество безработных людей с ограниченными возможностями впервые стало менее 2%.\n"
          ]
        }
      ]
    }
  ]
}