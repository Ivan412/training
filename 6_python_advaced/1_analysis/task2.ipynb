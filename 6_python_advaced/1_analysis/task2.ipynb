{
  "nbformat": 4,
  "nbformat_minor": 0,
  "metadata": {
    "colab": {
      "name": "part1-task2.ipynb",
      "provenance": [],
      "authorship_tag": "ABX9TyPuX7553ZP2iFa9Zthg8761",
      "include_colab_link": true
    },
    "kernelspec": {
      "name": "python3",
      "display_name": "Python 3"
    },
    "language_info": {
      "name": "python"
    }
  },
  "cells": [
    {
      "cell_type": "markdown",
      "metadata": {
        "id": "view-in-github",
        "colab_type": "text"
      },
      "source": [
        "<a href=\"https://colab.research.google.com/github/Ivan412/training/blob/main/6_python_advaced/1_analysis/task2.ipynb\" target=\"_parent\"><img src=\"https://colab.research.google.com/assets/colab-badge.svg\" alt=\"Open In Colab\"/></a>"
      ]
    },
    {
      "cell_type": "markdown",
      "source": [
        "Продвинутый Python. Часть 1: Индексы и объединение фреймов.\n",
        "\n",
        "---\n",
        "\n",
        "\n",
        "#**Задание: данные из нескольких источников**\n",
        "\n",
        "Получите данные по безработице в Москве:\n",
        "\n",
        "https://video.ittensive.com/python-advanced/data-9753-2019-07-25.utf.csv\n",
        "\n",
        "Объедините эти данные индексами (Месяц/Год) с данными из предыдущего задания (вызовы пожарных) для Центральный административный округ:\n",
        "\n",
        "https://video.ittensive.com/python-advanced/data-5283-2019-10-04.utf.csv\n",
        "\n",
        "Найдите значение поля UnemployedMen в том месяце, когда было меньше всего вызовов в Центральном административном округе."
      ],
      "metadata": {
        "id": "jU3HIZ6WcMsf"
      }
    },
    {
      "cell_type": "code",
      "execution_count": 50,
      "metadata": {
        "id": "LkZkxfCdcJXS"
      },
      "outputs": [],
      "source": [
        "import pandas as pd"
      ]
    },
    {
      "cell_type": "code",
      "source": [
        "#Загрузим данные\n",
        "columns=['Year', 'UnemployedMen', 'Period']\n",
        "data1 = pd.read_csv('https://video.ittensive.com/python-advanced/data-9753-2019-07-25.utf.csv', delimiter=';', decimal=',', na_values=\"NA\", usecols=columns)\n",
        "columns=['AdmArea', 'Year', 'Month', 'Calls']\n",
        "data2 = pd.read_csv('https://video.ittensive.com/python-advanced/data-5283-2019-10-04.utf.csv', delimiter=';', na_values=\"NA\", usecols=columns)"
      ],
      "metadata": {
        "id": "zE6GNKKcZHlM"
      },
      "execution_count": 51,
      "outputs": []
    },
    {
      "cell_type": "code",
      "source": [
        "#смерджим датафреймы по индексам\n",
        "data1 = data1.set_index(['Year', 'Period'])\n",
        "data2.rename(columns={'Month': 'Period'}, inplace=True)\n",
        "data2 = data2.set_index(['Year', 'Period'])\n",
        "data = pd.merge(data1, data2, left_index=True, right_index=True)"
      ],
      "metadata": {
        "id": "b_J92OJBnUva"
      },
      "execution_count": 52,
      "outputs": []
    },
    {
      "cell_type": "code",
      "source": [
        "#оставим данные по ЦАО\n",
        "data = data.loc[data['AdmArea'] == 'Центральный административный округ']"
      ],
      "metadata": {
        "id": "3Dijnnzr5ysu"
      },
      "execution_count": 53,
      "outputs": []
    },
    {
      "cell_type": "code",
      "source": [
        "#найдем значение поля UnemployedMen в том месяце, когда было меньше всего вызовов в ЦАО\n",
        "data = data.set_index(\"Calls\")\n",
        "UnemployedMen = data.sort_index().iloc[0]['UnemployedMen']\n",
        "print(f'Колисество UnemployedMen в том месяце, когда было меньше всего вызовов в ЦАО: {UnemployedMen}')"
      ],
      "metadata": {
        "colab": {
          "base_uri": "https://localhost:8080/"
        },
        "id": "0IWpnRU86JuB",
        "outputId": "712498e9-c08a-41fe-f0f2-0b822f79af1c"
      },
      "execution_count": 54,
      "outputs": [
        {
          "output_type": "stream",
          "name": "stdout",
          "text": [
            "Колисество UnemployedMen в том месяце, когда было меньше всего вызовов в ЦАО: 13465\n"
          ]
        }
      ]
    }
  ]
}