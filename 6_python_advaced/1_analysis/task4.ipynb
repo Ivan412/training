{
  "nbformat": 4,
  "nbformat_minor": 0,
  "metadata": {
    "colab": {
      "name": "part1-task4.ipynb",
      "provenance": [],
      "collapsed_sections": [],
      "authorship_tag": "ABX9TyMkkByosiH/lcKZEh7Z0qJQ",
      "include_colab_link": true
    },
    "kernelspec": {
      "name": "python3",
      "display_name": "Python 3"
    },
    "language_info": {
      "name": "python"
    }
  },
  "cells": [
    {
      "cell_type": "markdown",
      "metadata": {
        "id": "view-in-github",
        "colab_type": "text"
      },
      "source": [
        "<a href=\"https://colab.research.google.com/github/Ivan412/training/blob/main/6_python_advaced/1_analysis/task4.ipynb\" target=\"_parent\"><img src=\"https://colab.research.google.com/assets/colab-badge.svg\" alt=\"Open In Colab\"/></a>"
      ]
    },
    {
      "cell_type": "markdown",
      "source": [
        "Продвинутый Python. Часть 1: Линейная регрессия.\n",
        "\n",
        "---\n",
        "\n",
        "\n",
        "#**Задание: предсказание на 2020 год**\n",
        "\n",
        "Возьмите данные по безработице в городе Москва:\n",
        "\n",
        "https://video.ittensive.com/python-advanced/data-9753-2019-07-25.utf.csv\n",
        "\n",
        "Сгруппируйте данные по годам, и, если в году меньше 6 значений, отбросьте эти годы.\n",
        "\n",
        "Постройте модель линейной регрессии по годам среднего значения отношения UnemployedDisabled к UnemployedTotal (процента людей с ограниченными возможностями) за месяц и ответьте, какое ожидается значение процента безработных инвалидов в 2020 году при сохранении текущей политики города Москвы?\n",
        "\n",
        "Ответ округлите до сотых. Например, 2,32"
      ],
      "metadata": {
        "id": "iJwUNXarpuW6"
      }
    },
    {
      "cell_type": "code",
      "source": [
        "import pandas as pd\n",
        "import numpy as np\n",
        "import matplotlib.pyplot as plt\n",
        "from sklearn.linear_model import LinearRegression"
      ],
      "metadata": {
        "id": "wKGCwbIWqOE_"
      },
      "execution_count": 83,
      "outputs": []
    },
    {
      "cell_type": "code",
      "source": [
        "#загрузим данные\n",
        "columns=['Year', 'UnemployedDisabled', 'UnemployedTotal']\n",
        "data = pd.read_csv('https://video.ittensive.com/python-advanced/data-9753-2019-07-25.utf.csv', delimiter=';', decimal=',', na_values=\"NA\", usecols=columns)"
      ],
      "metadata": {
        "id": "TUhuXurvpujg"
      },
      "execution_count": 84,
      "outputs": []
    },
    {
      "cell_type": "code",
      "source": [
        "#отфильтруем года, для которых менее 6 измерений и найдем средние по годам\n",
        "data_avg = data.groupby('Year').filter(lambda x: x['UnemployedTotal'].count() >= 6).groupby('Year').mean()\n",
        "#построим массив с долей безработных инвалидов по годам\n",
        "data_disabled = data_avg['UnemployedDisabled'] / data_avg['UnemployedTotal']"
      ],
      "metadata": {
        "id": "m_DMKkEeqUO4"
      },
      "execution_count": 85,
      "outputs": []
    },
    {
      "cell_type": "code",
      "source": [
        "#подготовим данные для модели\n",
        "x = np.array(data_disabled.index).reshape(-1, 1)\n",
        "y = np.array(data_disabled.values).reshape(-1, 1)"
      ],
      "metadata": {
        "id": "lD9UN6mN2xlj"
      },
      "execution_count": 86,
      "outputs": []
    },
    {
      "cell_type": "code",
      "source": [
        "#создадим модель и получим предсказания\n",
        "model = LinearRegression().fit(x, y)\n",
        "predict2020 = np.round(model.predict([[2020]])[0][0]*100, 2)\n",
        "print(f'Предсказанная доля безработных инвалидов в 2020г: {predict2020}%')"
      ],
      "metadata": {
        "colab": {
          "base_uri": "https://localhost:8080/"
        },
        "id": "UHkob8yq44TR",
        "outputId": "75d4d528-cd23-4f59-e4df-98a02947fe0f"
      },
      "execution_count": 87,
      "outputs": [
        {
          "output_type": "stream",
          "name": "stdout",
          "text": [
            "Предсказанная доля безработных инвалидов в 2020г: 1.52%\n"
          ]
        }
      ]
    },
    {
      "cell_type": "code",
      "source": [
        "#построим график\n",
        "#передадим в скаттер набор точек\n",
        "plt.scatter(x, y, color=\"orange\")\n",
        "#продлим x следующим значением\n",
        "x = np.append(x, [2020]).reshape(-1, 1)\n",
        "#построим линию от x. y вычислим на ходу(model.predict(x))\n",
        "plt.plot(x, model.predict(x), color=\"blue\", linewidth=3)\n",
        "plt.show()"
      ],
      "metadata": {
        "colab": {
          "base_uri": "https://localhost:8080/",
          "height": 265
        },
        "id": "ScNnVtLkCrjA",
        "outputId": "db0d26cb-3242-428c-ae68-05016901d9e1"
      },
      "execution_count": 88,
      "outputs": [
        {
          "output_type": "display_data",
          "data": {
            "text/plain": [
              "<Figure size 432x288 with 1 Axes>"
            ],
            "image/png": "[encoded data removed]"
          },
          "metadata": {
            "needs_background": "light"
          }
        }
      ]
    }
  ]
}