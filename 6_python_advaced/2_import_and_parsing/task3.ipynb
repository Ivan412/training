{
  "nbformat": 4,
  "nbformat_minor": 0,
  "metadata": {
    "colab": {
      "name": "part2-task3.ipynb",
      "provenance": [],
      "collapsed_sections": [],
      "authorship_tag": "ABX9TyOLpCR5c7R7M1c96YOa9X4q",
      "include_colab_link": true
    },
    "kernelspec": {
      "name": "python3",
      "display_name": "Python 3"
    },
    "language_info": {
      "name": "python"
    }
  },
  "cells": [
    {
      "cell_type": "markdown",
      "metadata": {
        "id": "view-in-github",
        "colab_type": "text"
      },
      "source": [
        "<a href=\"https://colab.research.google.com/github/Ivan412/training/blob/main/6_python_advaced/2_import_and_parsing/task3.ipynb\" target=\"_parent\"><img src=\"https://colab.research.google.com/assets/colab-badge.svg\" alt=\"Open In Colab\"/></a>"
      ]
    },
    {
      "cell_type": "markdown",
      "source": [
        "Продвинутый Python. Часть 2: Импорт и парсинг данных. Веб-скрепинг.\n",
        "\n",
        "---\n",
        "\n",
        "\n",
        "#**Задание: парсинг интернет-магазина**\n",
        "\n",
        "Используя парсинг данных с маркетплейса beru.ru, найдите, на сколько литров отличается общий объем холодильников Саратов 263 и Саратов 452?\n",
        "\n",
        "Для парсинга можно использовать зеркало страницы beru.ru с результатами для холодильников Саратов по адресу:\n",
        "\n",
        "https://video.ittensive.com/data/018-python-advanced/beru.ru/"
      ],
      "metadata": {
        "id": "4YtcL_yxA7NS"
      }
    },
    {
      "cell_type": "code",
      "source": [
        "import requests\n",
        "from bs4 import BeautifulSoup as bs\n",
        "import re"
      ],
      "metadata": {
        "id": "Sh4oBeTIBD9k"
      },
      "execution_count": null,
      "outputs": []
    },
    {
      "cell_type": "code",
      "source": [
        "url = 'https://video.ittensive.com/data/018-python-advanced/beru.ru/'\n",
        "goods = ['Саратов 263', 'Саратов 452']\n",
        "#шаблоны поиска\n",
        "goods = [re.compile(f'.*({good}).*') for good in goods]\n",
        "total_vol = re.compile('общий\\sобъем\\s(\\d{1,4})\\s')"
      ],
      "metadata": {
        "id": "8mKrbeWTRxKq"
      },
      "execution_count": null,
      "outputs": []
    },
    {
      "cell_type": "code",
      "source": [
        "def get_link(text_pattern, bs_html):\n",
        "  '''\n",
        "  Функция возвращает локальную ссылку на товар из родительских тэгов этого товара\n",
        "  '''\n",
        "  #тэг с названием товара\n",
        "  tag = bs_html.find('span', string=text_pattern)\n",
        "  #просматриваем родителей\n",
        "  try:\n",
        "    for parent in tag.parents:\n",
        "      if (parent.name == 'a') and (parent.has_attr('href')):\n",
        "        return parent['href']\n",
        "  except:\n",
        "    return ''\n",
        "  return ''"
      ],
      "metadata": {
        "id": "YVYNoTPLDYCl"
      },
      "execution_count": null,
      "outputs": []
    },
    {
      "cell_type": "code",
      "source": [
        "def get_total_volume(tvol_pattern, bs_html):\n",
        "  '''\n",
        "  Функция возвращает объем холодильника\n",
        "  '''\n",
        "  #находим тэг\n",
        "  tag = bs_html.find('span', string=tvol_pattern)\n",
        "  #пробуем распарсить объем и скастовать к int\n",
        "  try:\n",
        "    vol = tvol_pattern.search(tag.text).group(1)\n",
        "    vol = int(vol)\n",
        "  except:\n",
        "    return 0\n",
        "  return vol"
      ],
      "metadata": {
        "id": "nnT0frYOUNx3"
      },
      "execution_count": null,
      "outputs": []
    },
    {
      "cell_type": "code",
      "source": [
        "r = requests.get(url)\n",
        "html = bs(r.content, 'lxml')\n",
        "#получим ссылки на страницы с товарами\n",
        "links = [url+x for x in [get_link(good, html) for good in goods] if x]"
      ],
      "metadata": {
        "id": "XqcfUqWKBOCz"
      },
      "execution_count": null,
      "outputs": []
    },
    {
      "cell_type": "code",
      "source": [
        "#найдем объемы\n",
        "r = requests.get(links[0])\n",
        "html = bs(r.content, 'lxml')\n",
        "s263 = get_total_volume(total_vol, html)\n",
        "r = requests.get(links[1])\n",
        "html = bs(r.content, 'lxml')\n",
        "s462 = get_total_volume(total_vol, html)\n",
        "\n",
        "print(f'Объем отличается на {abs(s263 - s462)} л')"
      ],
      "metadata": {
        "id": "8DSjCndjTZC_",
        "colab": {
          "base_uri": "https://localhost:8080/"
        },
        "outputId": "54126c81-0d17-4bbf-c42d-b67822961a71"
      },
      "execution_count": null,
      "outputs": [
        {
          "output_type": "stream",
          "name": "stdout",
          "text": [
            "Объем отличается на 73 л\n"
          ]
        }
      ]
    }
  ]
}