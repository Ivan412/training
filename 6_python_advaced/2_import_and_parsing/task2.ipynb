{
  "nbformat": 4,
  "nbformat_minor": 0,
  "metadata": {
    "colab": {
      "name": "part2-task2.ipynb",
      "provenance": [],
      "collapsed_sections": [],
      "authorship_tag": "ABX9TyNAPDCd3eJOjBsS2pbfF4qA",
      "include_colab_link": true
    },
    "kernelspec": {
      "name": "python3",
      "display_name": "Python 3"
    },
    "language_info": {
      "name": "python"
    }
  },
  "cells": [
    {
      "cell_type": "markdown",
      "metadata": {
        "id": "view-in-github",
        "colab_type": "text"
      },
      "source": [
        "<a href=\"https://colab.research.google.com/github/Ivan412/training/blob/main/6_python_advaced/2_import_and_parsing/task2.ipynb\" target=\"_parent\"><img src=\"https://colab.research.google.com/assets/colab-badge.svg\" alt=\"Open In Colab\"/></a>"
      ]
    },
    {
      "cell_type": "markdown",
      "source": [
        "Продвинутый Python. Часть 2: Импорт и парсинг данных. Парсинг данных.\n",
        "\n",
        "---\n",
        "\n",
        "\n",
        "#**Задание: получение котировок акций**\n",
        "\n",
        "Получите данные по котировкам акций со страницы:\n",
        "\n",
        "https://mfd.ru/marketdata/?id=5&group=16&mode=3&sortHeader=name&sortOrder=1&selectedDate=01.11.2019\n",
        "\n",
        "и найдите, по какому тикеру был максимальный рост числа сделок (в процентах) за 1 ноября 2019 года."
      ],
      "metadata": {
        "id": "lTMDVhmvaWwc"
      }
    },
    {
      "cell_type": "code",
      "source": [
        "import requests\n",
        "from bs4 import BeautifulSoup as bs\n",
        "import pandas as pd"
      ],
      "metadata": {
        "id": "v9QAcvHXagdC"
      },
      "execution_count": 42,
      "outputs": []
    },
    {
      "cell_type": "code",
      "source": [
        "#выполним запрос к бирже\n",
        "url='https://mfd.ru/marketdata/?id=5&group=16&mode=3&sortHeader=name&sortOrder=1&selectedDate=01.11.2019'\n",
        "r = requests.get(url)"
      ],
      "metadata": {
        "id": "t5z5zD9Raulx"
      },
      "execution_count": 43,
      "outputs": []
    },
    {
      "cell_type": "code",
      "source": [
        "#распарсим страницу\n",
        "html = bs(r.content, 'lxml')\n",
        "#найдем таблицу по классу\n",
        "table = html.find_all(class_='mfd-table')[0]\n",
        "#оставим предпоследнее тело таблицы(сбросим заголовки)\n",
        "table.contents[-1].decompose()\n",
        "table.contents[-2].decompose()"
      ],
      "metadata": {
        "id": "D5NbdjchcXrd"
      },
      "execution_count": 44,
      "outputs": []
    },
    {
      "cell_type": "code",
      "source": [
        "#загрузим таблицу в df\n",
        "data = pd.read_html(str(table))[0]\n",
        "data.set_index(data.columns[0], inplace=True)\n",
        "#заменим юникодовские черточки на православные ASCII минуса и уберем пробелы\n",
        "data[4] = data[4].str.replace('−', '-')\n",
        "data[4] = data[4].str.replace('%', '')\n",
        "#конвертнем столбец к float\n",
        "data[4] = data[4].astype('float')\n",
        "print(data[4].idxmax())"
      ],
      "metadata": {
        "id": "63cJ4CMyk09U",
        "outputId": "add936d0-3c6f-45a4-eb98-3de54c7ecd86",
        "colab": {
          "base_uri": "https://localhost:8080/"
        }
      },
      "execution_count": 45,
      "outputs": [
        {
          "output_type": "stream",
          "name": "stdout",
          "text": [
            "ИКРУСС-ИНВ\n"
          ]
        }
      ]
    }
  ]
}