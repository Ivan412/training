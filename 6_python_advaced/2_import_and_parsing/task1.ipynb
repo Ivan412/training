{
  "nbformat": 4,
  "nbformat_minor": 0,
  "metadata": {
    "colab": {
      "name": "part2-task1.ipynb",
      "provenance": [],
      "collapsed_sections": [],
      "authorship_tag": "ABX9TyP/aLcj7mX5ydiZwFGQedtW",
      "include_colab_link": true
    },
    "kernelspec": {
      "name": "python3",
      "display_name": "Python 3"
    },
    "language_info": {
      "name": "python"
    }
  },
  "cells": [
    {
      "cell_type": "markdown",
      "metadata": {
        "id": "view-in-github",
        "colab_type": "text"
      },
      "source": [
        "<a href=\"https://colab.research.google.com/github/Ivan412/training/blob/main/6_python_advaced/2_import_and_parsing/task1.ipynb\" target=\"_parent\"><img src=\"https://colab.research.google.com/assets/colab-badge.svg\" alt=\"Open In Colab\"/></a>"
      ]
    },
    {
      "cell_type": "markdown",
      "source": [
        "Продвинутый Python. Часть 2: Импорт и парсинг данных. Импорт данных.\n",
        "\n",
        "---\n",
        "\n",
        "\n",
        "#**Задание: получение данных по API**\n",
        "\n",
        "Изучите API Геокодера Яндекса\n",
        "\n",
        "tech.yandex.ru/maps/geocoder/doc/desc/concepts/input_params-docpage/\n",
        "\n",
        "и получите ключ API для него в кабинете разработчика.\n",
        "\n",
        "Выполните запрос к API и узнайте долготу точки на карте (Point) для города Самара."
      ],
      "metadata": {
        "id": "lTMDVhmvaWwc"
      }
    },
    {
      "cell_type": "code",
      "source": [
        "import requests\n",
        "import json\n",
        "from getpass import getpass"
      ],
      "metadata": {
        "id": "v9QAcvHXagdC"
      },
      "execution_count": 4,
      "outputs": []
    },
    {
      "cell_type": "code",
      "source": [
        "#выполним запрос к Геокодеру\n",
        "token = getpass('Введите API токен Яндекс Геокодера')\n",
        "url = f'https://geocode-maps.yandex.ru/1.x/?apikey={token}&geocode=Россия,+город+Самара&format=json'\n",
        "r = requests.get(url)\n",
        "del(token)"
      ],
      "metadata": {
        "colab": {
          "base_uri": "https://localhost:8080/"
        },
        "id": "DMV1dHfmY6nj",
        "outputId": "e557de5a-e5eb-449e-98c4-812045c92b0a"
      },
      "execution_count": 5,
      "outputs": [
        {
          "name": "stdout",
          "output_type": "stream",
          "text": [
            "Введите API токен Яндекс Геокодера··········\n"
          ]
        }
      ]
    },
    {
      "cell_type": "code",
      "source": [
        "if r.ok:\n",
        "  data = json.loads(r.content)\n",
        "else:\n",
        "  data = None\n",
        "#проверим, что это нужный город в нужной стране\n",
        "try:\n",
        "  country = None\n",
        "  name = None\n",
        "  country = data['response']['GeoObjectCollection']['featureMember'][0]['GeoObject']['metaDataProperty']['GeocoderMetaData']['AddressDetails']['Country']['CountryNameCode']\n",
        "  name = data['response']['GeoObjectCollection']['featureMember'][0]['GeoObject']['metaDataProperty']['GeocoderMetaData']['AddressDetails']['Country']['AdministrativeArea']['SubAdministrativeArea']['Locality']['LocalityName']\n",
        "except:\n",
        "  print('Объект не найден')\n",
        "#извлечем широту и долготу\n",
        "try:\n",
        "  lat = None\n",
        "  lon = None\n",
        "  if (country == 'RU') and (name == 'Самара'):\n",
        "    lat, lon = data['response']['GeoObjectCollection']['featureMember'][0]['GeoObject']['Point']['pos'].split()\n",
        "except:\n",
        "  print('Координаты не найдены')\n",
        "#выведем ответ\n",
        "if lon:\n",
        "  print(f'Долгота Самары: {lat}')"
      ],
      "metadata": {
        "colab": {
          "base_uri": "https://localhost:8080/"
        },
        "id": "i0UdaWIShor1",
        "outputId": "17f31782-0ded-4956-941b-85ee9390840d"
      },
      "execution_count": 6,
      "outputs": [
        {
          "output_type": "stream",
          "name": "stdout",
          "text": [
            "Долгота Самары: 50.100202\n"
          ]
        }
      ]
    }
  ]
}