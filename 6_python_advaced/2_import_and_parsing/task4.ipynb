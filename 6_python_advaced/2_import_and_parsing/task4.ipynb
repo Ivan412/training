{
  "nbformat": 4,
  "nbformat_minor": 0,
  "metadata": {
    "colab": {
      "name": "part2-task4.ipynb",
      "provenance": [],
      "collapsed_sections": [],
      "authorship_tag": "ABX9TyN0VZABhX4nHAcVb5xkEAvO",
      "include_colab_link": true
    },
    "kernelspec": {
      "name": "python3",
      "display_name": "Python 3"
    },
    "language_info": {
      "name": "python"
    }
  },
  "cells": [
    {
      "cell_type": "markdown",
      "metadata": {
        "id": "view-in-github",
        "colab_type": "text"
      },
      "source": [
        "<a href=\"https://colab.research.google.com/github/Ivan412/training/blob/main/6_python_advaced/2_import_and_parsing/task4.ipynb\" target=\"_parent\"><img src=\"https://colab.research.google.com/assets/colab-badge.svg\" alt=\"Open In Colab\"/></a>"
      ]
    },
    {
      "cell_type": "markdown",
      "source": [
        "Продвинутый Python. Часть 2: Импорт и парсинг данных. Работа с SQL.\n",
        "\n",
        "---\n",
        "\n",
        "\n",
        "#**Задание: загрузка результатов в БД**\n",
        "\n",
        "Соберите данные о моделях холодильников Саратов с маркетплейса beru.ru: URL, название, цена, размеры, общий объем, объем холодильной камеры.\n",
        "\n",
        "Создайте соответствующие таблицы в SQLite базе данных и загрузите полученные данные в таблицу beru_goods.\n",
        "\n",
        "Для парсинга можно использовать зеркало страницы beru.ru с результатами для холодильников Саратов по адресу:\n",
        "\n",
        "https://video.ittensive.com/data/018-python-advanced/beru.ru/"
      ],
      "metadata": {
        "id": "4nPauKpufewJ"
      }
    },
    {
      "cell_type": "code",
      "execution_count": 1,
      "metadata": {
        "id": "JmyVKs_eLHDw"
      },
      "outputs": [],
      "source": [
        "import requests\n",
        "from bs4 import BeautifulSoup as bs\n",
        "import sqlite3\n",
        "import re"
      ]
    },
    {
      "cell_type": "code",
      "source": [
        "#шаблоны поиска\n",
        "re_templates = {'freezer': re.compile(r'.*Холодильник\\s*Саратов.*', re.IGNORECASE)}"
      ],
      "metadata": {
        "id": "UjVWFkA1nnKq"
      },
      "execution_count": 2,
      "outputs": []
    },
    {
      "cell_type": "code",
      "source": [
        "def get_links(text_pattern, bs_html):\n",
        "  '''\n",
        "  Функция возвращает локальные ссылки на товары из родительских тэгов этих товаров\n",
        "  '''\n",
        "  urls = []\n",
        "  #находим товары по шаблону\n",
        "  tags = bs_html.find_all('span', string=text_pattern)\n",
        "  #для каждого товара ищем ссылку в его рродителях\n",
        "  for tag in tags:\n",
        "    try:\n",
        "      for parent in tag.parents:\n",
        "        if (parent.name == 'a') and (parent.has_attr('href')):\n",
        "          urls.append(parent['href'])\n",
        "    except:\n",
        "      pass\n",
        "  return urls\n",
        "\n",
        "\n",
        "def get_features(url):\n",
        "  '''\n",
        "  Функция возвращает характеристики товара:\n",
        "  url, name, price, length, width, height, vol, freezer_vol\n",
        "  '''\n",
        "  #regexp для именованных групп вида decimal с разделителями 'x'\n",
        "  lwh_pattern = re.compile('(?P<w>\\d+(?:\\.\\d+)?)х(?P<h>\\d+(?:\\.\\d+)?)х(?P<l>\\d+(?:\\.\\d+)?)')\n",
        "  #regexp для именованных групп объемов\n",
        "  vol_pattern = re.compile('общий объем (?P<vol>\\d+(?:\\.\\d+)?) л')\n",
        "  fvol_pattern = re.compile('объем холодильной камеры (?P<fvol>\\d+(?:\\.\\d+)?) л')\n",
        "\n",
        "  result = []\n",
        "  result.append(url)\n",
        "\n",
        "  #откроим страницу с товаром или вернем заглушку\n",
        "  r = requests.get(url)\n",
        "  if r.status_code != 200:\n",
        "    result.extend([''] * 7)\n",
        "    return result\n",
        "  bs_html = bs(r.content, 'lxml')\n",
        "\n",
        "  #найдем название\n",
        "  name = bs_html.find('h1')\n",
        "  result.append(name.getText()) if name else result.append('')\n",
        "\n",
        "  #найдем цену\n",
        "  price = bs_html.find('span', attrs={'data-tid': 'c3eaad93'})\n",
        "  result.append(price.getText().replace(' ', '')) if price else result.append('')\n",
        "\n",
        "  #найдем характеристики\n",
        "  specs = bs_html.find('div', attrs={'data-zone-name': 'specs'})\n",
        "\n",
        "  #найдем размеры\n",
        "  try:\n",
        "    lwh = lwh_pattern.search(specs.getText()).groupdict()\n",
        "    l, w, h = lwh['w'], lwh['l'], lwh['h']\n",
        "    result.extend(map(float, [l, w, h]))\n",
        "  except:\n",
        "    result.extend([''] * 3)\n",
        "\n",
        "  #найдем общий объем\n",
        "  vol = vol_pattern.search(specs.getText())\n",
        "  result.append(float(vol.groupdict()['vol'])) if vol  else result.append('')\n",
        "\n",
        "  #найдем объем холодильной камеры\n",
        "  fvol = fvol_pattern.search(specs.getText())\n",
        "  result.append(float(fvol.groupdict()['fvol'])) if fvol else result.append('')\n",
        "  \n",
        "  return result"
      ],
      "metadata": {
        "id": "u38YKPHYnhdf"
      },
      "execution_count": 3,
      "outputs": []
    },
    {
      "cell_type": "code",
      "source": [
        "#откроем страничку с товарами\n",
        "url = 'https://video.ittensive.com/data/018-python-advanced/beru.ru/'\n",
        "r = requests.get(url)\n",
        "html = bs(r.content, 'lxml')\n",
        "#получим относительные и абсолютные ссылки на товары\n",
        "links = get_links(re_templates['freezer'], html)\n",
        "links = [url + x for x in links]\n",
        "#получим характеристики по каждому товару\n",
        "data = []\n",
        "for link in links:\n",
        "  line = get_features(link)\n",
        "  data.append(line)\n",
        "  print(f'Добавлен товар: {line[1]}')"
      ],
      "metadata": {
        "colab": {
          "base_uri": "https://localhost:8080/"
        },
        "id": "jYiPys8RjF2G",
        "outputId": "7cb217e6-1d6c-419f-ee04-c1c5ab3caaf0"
      },
      "execution_count": 7,
      "outputs": [
        {
          "output_type": "stream",
          "name": "stdout",
          "text": [
            "Добавлен товар: Холодильник Саратов 452 (КШ-120)\n",
            "Добавлен товар: Холодильник Саратов 263 (КШД-200/30)\n",
            "Добавлен товар: Холодильник Саратов 209 (КШД 275/65)\n",
            "Добавлен товар: Холодильник Саратов 209 белый с черными накладками\n",
            "Добавлен товар: Холодильник Саратов 452 (КШ-120) серый\n",
            "Добавлен товар: Холодильник Саратов 550 (КШ-120 без НТО)\n",
            "Добавлен товар: Холодильник Саратов 467 (КШ-210)\n",
            "Добавлен товар: Холодильник Саратов 264 (КШД-150/30)\n",
            "Добавлен товар: Холодильник Саратов 264 (КШД-150/30) серый\n",
            "Добавлен товар: Холодильник Саратов 263 серый\n"
          ]
        }
      ]
    },
    {
      "cell_type": "code",
      "source": [
        "#присоеденимся к базе и создадим таблицу\n",
        "conn = sqlite3.connect(\"data.db3\")\n",
        "db = conn.cursor()\n",
        "db.execute(\"\"\"CREATE TABLE beru_goods\n",
        "            (id INTEGER PRIMARY KEY AUTOINCREMENT not null,\n",
        "            url text,\n",
        "            name text default '',\n",
        "            price DECIMAL default 0.0,\n",
        "            width FLOAT default 0.0,\n",
        "            depth FLOAT default 0.0,\n",
        "            height FLOAT default 0.0,\n",
        "            volume FLOAT default 0.0,\n",
        "            freezer FLOAT default 0.0)\"\"\")\n",
        "conn.commit()"
      ],
      "metadata": {
        "id": "sxh9S0z-gl1E"
      },
      "execution_count": 8,
      "outputs": []
    },
    {
      "cell_type": "code",
      "source": [
        "#вставим данные в таблицу\n",
        "db.executemany(\"\"\"INSERT INTO beru_goods (url, name, price, width, depth, height, volume, freezer)\n",
        "           VALUES (?, ?, ?, ?, ?, ?, ?, ?)\"\"\", data)\n",
        "conn.commit()"
      ],
      "metadata": {
        "id": "yCQ1S0xTi4uY"
      },
      "execution_count": 9,
      "outputs": []
    },
    {
      "cell_type": "code",
      "source": [
        "#посмотрим содержимое таблицы\n",
        "for line in db.execute(\"SELECT * FROM beru_goods\").fetchall():\n",
        "  print(line)\n",
        "  db.close()"
      ],
      "metadata": {
        "colab": {
          "base_uri": "https://localhost:8080/"
        },
        "id": "84_hqaDgkoAG",
        "outputId": "cb748ef7-483c-4ff0-f643-27751faf4c52"
      },
      "execution_count": 10,
      "outputs": [
        {
          "output_type": "stream",
          "name": "stdout",
          "text": [
            "(1, 'https://video.ittensive.com/data/018-python-advanced/beru.ru/kholodilnik-saratov-452-ksh-120.html', 'Холодильник Саратов 452 (КШ-120)', 10728, 48.0, 60.0, 89.6, 122.0, 107.0)\n",
            "(2, 'https://video.ittensive.com/data/018-python-advanced/beru.ru/kholodilnik-saratov-263-kshd-200-30.html', 'Холодильник Саратов 263 (КШД-200/30)', 14299, 48.0, 60.0, 149.0, 195.0, 165.0)\n",
            "(3, 'https://video.ittensive.com/data/018-python-advanced/beru.ru/kholodilnik-saratov-209-kshd-275-65.html', 'Холодильник Саратов 209 (КШД 275/65)', 13292, 60.0, 60.6, 163.0, 275.0, 210.0)\n",
            "(4, 'https://video.ittensive.com/data/018-python-advanced/beru.ru/kholodilnik-saratov-209-belyi-s-chernymi-nakladkami.html', 'Холодильник Саратов 209 белый с черными накладками', 18259, 60.0, 61.0, 163.0, 275.0, 210.0)\n",
            "(5, 'https://video.ittensive.com/data/018-python-advanced/beru.ru/kholodilnik-saratov-452-ksh-120-seryi.html', 'Холодильник Саратов 452 (КШ-120) серый', 10946, 48.0, 60.0, 89.6, 122.0, 107.0)\n",
            "(6, 'https://video.ittensive.com/data/018-python-advanced/beru.ru/kholodilnik-saratov-550-ksh-120-bez-nto.html', 'Холодильник Саратов 550 (КШ-120 без НТО)', 10545, 48.0, 59.0, 87.5, 122.0, '')\n",
            "(7, 'https://video.ittensive.com/data/018-python-advanced/beru.ru/kholodilnik-saratov-467-ksh-210.html', 'Холодильник Саратов 467 (КШ-210)', 13523, 48.0, 60.0, 149.0, 210.0, 185.0)\n",
            "(8, 'https://video.ittensive.com/data/018-python-advanced/beru.ru/kholodilnik-saratov-264-kshd-150-30.html', 'Холодильник Саратов 264 (КШД-150/30)', 14151, 48.0, 60.0, 123.0, 152.0, 122.0)\n",
            "(9, 'https://video.ittensive.com/data/018-python-advanced/beru.ru/kholodilnik-saratov-264-kshd-150-30-seryi.html', 'Холодильник Саратов 264 (КШД-150/30) серый', 14369, 48.0, 60.0, 123.0, 152.0, 122.0)\n",
            "(10, 'https://video.ittensive.com/data/018-python-advanced/beru.ru/kholodilnik-saratov-263-seryi.html', 'Холодильник Саратов 263 серый', 14811, 48.0, 60.0, 149.0, 195.0, 165.0)\n"
          ]
        }
      ]
    }
  ]
}